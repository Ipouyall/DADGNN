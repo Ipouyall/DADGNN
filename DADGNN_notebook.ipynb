{
  "cells": [
    {
      "cell_type": "markdown",
      "metadata": {
        "id": "6Bp_qIWrqLAE"
      },
      "source": [
        "# Clone and Instalation"
      ]
    },
    {
      "cell_type": "code",
      "execution_count": null,
      "metadata": {
        "id": "EBEN70f5p66k"
      },
      "outputs": [],
      "source": [
        "! git clone https://github.com/Ipouyall/DADGNN"
      ]
    },
    {
      "cell_type": "code",
      "execution_count": 2,
      "metadata": {
        "colab": {
          "base_uri": "https://localhost:8080/"
        },
        "id": "BpwC1OoCqPA0",
        "outputId": "94436545-a0d3-44ac-8ccf-0c77ef70953d"
      },
      "outputs": [
        {
          "output_type": "stream",
          "name": "stdout",
          "text": [
            "/content/DADGNN\n"
          ]
        }
      ],
      "source": [
        "%cd DADGNN"
      ]
    },
    {
      "cell_type": "code",
      "execution_count": null,
      "metadata": {
        "id": "2dMhhGN2qUbZ"
      },
      "outputs": [],
      "source": [
        "! pip install numpy scikit-learn==1.0.2 torch\n",
        "# ! pip install gensim"
      ]
    },
    {
      "cell_type": "code",
      "execution_count": null,
      "metadata": {
        "id": "WIEBiLTEsg6c"
      },
      "outputs": [],
      "source": [
        "! pip install dgl -f https://data.dgl.ai/wheels/cu116/repo.html"
      ]
    },
    {
      "cell_type": "code",
      "source": [
        "import nltk\n",
        "nltk.download('punkt')"
      ],
      "metadata": {
        "id": "oslEfo8W4Wl5"
      },
      "execution_count": null,
      "outputs": []
    },
    {
      "cell_type": "markdown",
      "source": [
        "Glove embedding"
      ],
      "metadata": {
        "id": "cmIy0aCcgkU2"
      }
    },
    {
      "cell_type": "code",
      "source": [
        "!wget http://nlp.stanford.edu/data/glove.6B.zip\n",
        "!unzip glove*.zip"
      ],
      "metadata": {
        "id": "umxYz08fmv3q"
      },
      "execution_count": null,
      "outputs": []
    },
    {
      "cell_type": "markdown",
      "source": [
        "Fasttext embedding"
      ],
      "metadata": {
        "id": "Qmo60e0gkSDu"
      }
    },
    {
      "cell_type": "code",
      "source": [
        "! wget https://dl.fbaipublicfiles.com/fasttext/vectors-crawl/cc.en.300.vec.gz\n",
        "! gunzip cc.en.300.vec.gz"
      ],
      "metadata": {
        "id": "sJizaCz6kT6x"
      },
      "execution_count": null,
      "outputs": []
    },
    {
      "cell_type": "markdown",
      "metadata": {
        "id": "jq2kCJj8qv4G"
      },
      "source": [
        "# Run"
      ]
    },
    {
      "cell_type": "code",
      "execution_count": null,
      "metadata": {
        "id": "IEhwZwzZrKSm"
      },
      "outputs": [],
      "source": [
        "# export NGRAM=4\n",
        "# export NAME=offensiveness-check\n",
        "# export BAR=1\n",
        "# export WD=1e-6\n",
        "# export DROPOUT=0.5\n",
        "# export NUM_HIDDEN=64\n",
        "# export NUM_LAYERS=5\n",
        "# export NUM_HEADS=2\n",
        "# export K=5\n",
        "# export ALPHA=0.5\n",
        "# export DATASET=your_dataset\n",
        "# export EDGES=1\n",
        "# export RAND=42\n",
        "! NAME=offensiveness-check DROPOUT=0.7 EMBEDDING=glove DATASET=OLIDv1 make"
      ]
    },
    {
      "cell_type": "code",
      "source": [],
      "metadata": {
        "id": "WGqUjB-mXeaq"
      },
      "execution_count": 8,
      "outputs": []
    }
  ],
  "metadata": {
    "colab": {
      "provenance": [],
      "gpuType": "T4"
    },
    "kernelspec": {
      "display_name": "Python 3",
      "name": "python3"
    },
    "language_info": {
      "name": "python"
    },
    "accelerator": "GPU"
  },
  "nbformat": 4,
  "nbformat_minor": 0
}